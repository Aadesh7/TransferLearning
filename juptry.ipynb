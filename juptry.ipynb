{
 "cells": [
  {
   "cell_type": "code",
   "execution_count": 1,
   "metadata": {},
   "outputs": [],
   "source": [
    "import os\n",
    "from PIL import Image, ImageOps\n",
    "import numpy as np\n",
    "import random\n",
    "from scipy import ndimage\n",
    "import cv2\n",
    "\n",
    "def load_images(directory, target_size):\n",
    "    images = []\n",
    "    labels = []\n",
    "    class_names = os.listdir(directory) # class names as per the folder name\n",
    "    # creation of dictionary for enumeration\n",
    "    class_to_index = {class_name: i for i, class_name in enumerate(class_names)}\n",
    "    for class_name in class_names:\n",
    "        class_dir = os.path.join(directory, class_name + \"/train\")\n",
    "        class_label = class_to_index[class_name]\n",
    "        for filename in os.listdir(class_dir):\n",
    "            image_path = os.path.join(class_dir, filename)\n",
    "            image = Image.open(image_path).convert(\"RGB\")\n",
    "            \n",
    "            padded_image = ImageOps.pad(image, target_size, method=Image.Resampling.LANCZOS)\n",
    "\n",
    "            images.append(np.array(padded_image))\n",
    "            labels.append(np.array(class_label))\n",
    "\n",
    "    return images, labels\n",
    "\n",
    "def augment_images(images, labels):\n",
    "    augmented_images = []\n",
    "    augmented_labels = []\n",
    "\n",
    "    for i, image in enumerate(images):\n",
    "        \n",
    "        augmented_images.append(image)\n",
    "        augmented_labels.append(labels[i])\n",
    "\n",
    "        # Random horizontal flip\n",
    "        if np.random.rand() < 0.3:\n",
    "            flipped_image = np.fliplr(image)\n",
    "            augmented_images.append(flipped_image)\n",
    "            augmented_labels.append(labels[i])\n",
    "\n",
    "        # Random rotation\n",
    "        if np.random.rand() < 0.3:\n",
    "            angle = np.random.randint(-15, 15)  # Rotate between -15 and +15 degrees\n",
    "            rotated_image = ndimage.rotate(image, angle, reshape=False, mode='nearest')\n",
    "            augmented_images.append(rotated_image)\n",
    "            augmented_labels.append(labels[i])\n",
    "\n",
    "        # add gaussian noise\n",
    "        if np.random.rand() < 0.3:\n",
    "            noise = np.random.normal(0, 0.1, image.shape)\n",
    "            noisy_image = image + noise\n",
    "            noisy_image = np.clip(noisy_image, 0, 1)\n",
    "            augmented_images.append(noisy_image)\n",
    "            augmented_labels.append(labels[i])\n",
    "\n",
    "    return augmented_images, augmented_labels\n",
    "\n",
    "data_dir = '/data/animal_data'\n",
    "target_size = (195, 195)\n",
    "\n",
    "images, labels = load_images(data_dir, target_size)\n",
    "images, labels = augment_images(images, labels)"
   ]
  },
  {
   "cell_type": "code",
   "execution_count": 3,
   "metadata": {},
   "outputs": [
    {
     "data": {
      "text/plain": [
       "12270"
      ]
     },
     "execution_count": 3,
     "metadata": {},
     "output_type": "execute_result"
    }
   ],
   "source": [
    "len(images)"
   ]
  },
  {
   "cell_type": "code",
   "execution_count": null,
   "metadata": {},
   "outputs": [],
   "source": [
    "from sklearn.model_selection import train_test_split\n",
    "from tensorflow.keras.utils import to_categorical\n",
    "\n",
    "images = np.array(images)\n",
    "labels = np.array(labels)\n",
    "\n",
    "X_train, X_test, y_train, y_test = train_test_split(images, labels, test_size=0.2, random_state=42)\n",
    "\n",
    "# normalize\n",
    "X_train = X_train.astype('float32') / 255.0\n",
    "X_test = X_test.astype('float32') / 255.0\n",
    "\n",
    "# labels to one-hot encoding\n",
    "num_classes = len(np.unique(labels))\n",
    "y_train = to_categorical(y_train, num_classes)\n",
    "y_test = to_categorical(y_test, num_classes)\n",
    "\n",
    "batch_size = 16"
   ]
  },
  {
   "cell_type": "code",
   "execution_count": 3,
   "metadata": {},
   "outputs": [],
   "source": [
    "import tensorflow as tf\n",
    "from tensorflow.keras import layers, models\n",
    "from tensorflow.keras.optimizers import Adam\n",
    "\n",
    "def cnn_model(num_classes):\n",
    "    model = models.Sequential()\n",
    "\n",
    "    # Convolutional layers\n",
    "    model.add(layers.Conv2D(16, (3, 3), activation='relu', input_shape=X_train.shape[1:]))\n",
    "    model.add(layers.BatchNormalization())\n",
    "    model.add(layers.MaxPooling2D((2, 2)))\n",
    "\n",
    "    model.add(layers.Conv2D(32, (3, 3), activation='relu'))\n",
    "    model.add(layers.BatchNormalization())\n",
    "    model.add(layers.MaxPooling2D((2, 2)))\n",
    "    \n",
    "    model.add(layers.Conv2D(64, (3, 3), activation='relu'))\n",
    "    model.add(layers.BatchNormalization())\n",
    "    model.add(layers.MaxPooling2D((2, 2)))\n",
    "\n",
    "    model.add(layers.Dropout(0.25))\n",
    "\n",
    "    model.add(layers.Flatten())\n",
    "\n",
    "    # Fully connected layers\n",
    "    model.add(layers.Dense(128, activation='relu'))\n",
    "    model.add(layers.Dropout(0.4))\n",
    "    model.add(layers.Dense(64, activation='relu'))\n",
    "\n",
    "    # Output layer\n",
    "    model.add(layers.Dense(num_classes, activation='softmax'))\n",
    "\n",
    "    return model"
   ]
  },
  {
   "cell_type": "code",
   "execution_count": 4,
   "metadata": {},
   "outputs": [
    {
     "name": "stdout",
     "output_type": "stream",
     "text": [
      "Model: \"sequential\"\n",
      "_________________________________________________________________\n",
      "Layer (type)                 Output Shape              Param #   \n",
      "=================================================================\n",
      "conv2d (Conv2D)              (None, 178, 178, 16)      448       \n",
      "_________________________________________________________________\n",
      "batch_normalization (BatchNo (None, 178, 178, 16)      64        \n",
      "_________________________________________________________________\n",
      "max_pooling2d (MaxPooling2D) (None, 89, 89, 16)        0         \n",
      "_________________________________________________________________\n",
      "conv2d_1 (Conv2D)            (None, 87, 87, 32)        4640      \n",
      "_________________________________________________________________\n",
      "batch_normalization_1 (Batch (None, 87, 87, 32)        128       \n",
      "_________________________________________________________________\n",
      "max_pooling2d_1 (MaxPooling2 (None, 43, 43, 32)        0         \n",
      "_________________________________________________________________\n",
      "conv2d_2 (Conv2D)            (None, 41, 41, 64)        18496     \n",
      "_________________________________________________________________\n",
      "batch_normalization_2 (Batch (None, 41, 41, 64)        256       \n",
      "_________________________________________________________________\n",
      "max_pooling2d_2 (MaxPooling2 (None, 20, 20, 64)        0         \n",
      "_________________________________________________________________\n",
      "dropout (Dropout)            (None, 20, 20, 64)        0         \n",
      "_________________________________________________________________\n",
      "flatten (Flatten)            (None, 25600)             0         \n",
      "_________________________________________________________________\n",
      "dense (Dense)                (None, 256)               6553856   \n",
      "_________________________________________________________________\n",
      "dropout_1 (Dropout)          (None, 256)               0         \n",
      "_________________________________________________________________\n",
      "dense_1 (Dense)              (None, 128)               32896     \n",
      "_________________________________________________________________\n",
      "dense_2 (Dense)              (None, 4)                 516       \n",
      "=================================================================\n",
      "Total params: 6,611,300\n",
      "Trainable params: 6,611,076\n",
      "Non-trainable params: 224\n",
      "_________________________________________________________________\n"
     ]
    }
   ],
   "source": [
    "model = cnn_model(num_classes) #created a CNN model\n",
    "model.summary()"
   ]
  },
  {
   "cell_type": "code",
   "execution_count": 5,
   "metadata": {},
   "outputs": [],
   "source": [
    "model.compile(optimizer=Adam(learning_rate=0.005),\n",
    "              loss='categorical_crossentropy',\n",
    "              metrics=['accuracy'])"
   ]
  },
  {
   "cell_type": "code",
   "execution_count": null,
   "metadata": {},
   "outputs": [
    {
     "name": "stdout",
     "output_type": "stream",
     "text": [
      "Train on 6097 samples, validate on 1525 samples\n",
      "Epoch 1/10\n",
      "6097/6097 - 188s - loss: 3.9839 - accuracy: 0.2864 - val_loss: 1.3843 - val_accuracy: 0.2728\n",
      "Epoch 2/10\n",
      "6097/6097 - 180s - loss: 1.4019 - accuracy: 0.2629 - val_loss: 1.3855 - val_accuracy: 0.2557\n",
      "Epoch 3/10\n",
      "6097/6097 - 200s - loss: 1.4055 - accuracy: 0.2434 - val_loss: 1.3837 - val_accuracy: 0.2656\n",
      "Epoch 4/10\n",
      "6097/6097 - 180s - loss: 1.4089 - accuracy: 0.2570 - val_loss: 1.3837 - val_accuracy: 0.2557\n",
      "Epoch 5/10\n"
     ]
    }
   ],
   "source": [
    "# Training the model\n",
    "history = model.fit(X_train, y_train, epochs=10, batch_size=batch_size, validation_split=0.2, verbose=2)"
   ]
  },
  {
   "cell_type": "code",
   "execution_count": null,
   "metadata": {},
   "outputs": [],
   "source": [
    "test_loss, test_acc = model.evaluate(X_test, y_test, verbose=2)\n",
    "print(\"Test accuracy:\", test_acc)"
   ]
  },
  {
   "cell_type": "code",
   "execution_count": null,
   "metadata": {},
   "outputs": [],
   "source": []
  }
 ],
 "metadata": {
  "kernelspec": {
   "display_name": "Python 3",
   "language": "python",
   "name": "python3"
  },
  "language_info": {
   "codemirror_mode": {
    "name": "ipython",
    "version": 3
   },
   "file_extension": ".py",
   "mimetype": "text/x-python",
   "name": "python",
   "nbconvert_exporter": "python",
   "pygments_lexer": "ipython3",
   "version": "3.6.9"
  }
 },
 "nbformat": 4,
 "nbformat_minor": 4
}
